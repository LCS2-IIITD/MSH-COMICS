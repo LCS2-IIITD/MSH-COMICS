{
  "nbformat": 4,
  "nbformat_minor": 0,
  "metadata": {
    "colab": {
      "name": "generate_embedding.ipynb",
      "provenance": []
    },
    "kernelspec": {
      "name": "python3",
      "display_name": "Python 3"
    }
  },
  "cells": [
    {
      "cell_type": "code",
      "metadata": {
        "id": "CXK5WPeF-iNF",
        "colab_type": "code",
        "colab": {}
      },
      "source": [
        ""
      ],
      "execution_count": 0,
      "outputs": []
    },
    {
      "cell_type": "code",
      "metadata": {
        "id": "qHqKzsQHHfi1",
        "colab_type": "code",
        "colab": {}
      },
      "source": [
        "import cv2\n",
        "import math\n",
        "import matplotlib.pyplot as plt\n",
        "import pandas as pd\n",
        "from keras.preprocessing import image\n",
        "import numpy as np\n",
        "from keras.utils import np_utils\n",
        "from skimage.transform import resize"
      ],
      "execution_count": 0,
      "outputs": []
    },
    {
      "cell_type": "code",
      "metadata": {
        "id": "BSRrwY9dl350",
        "colab_type": "code",
        "colab": {}
      },
      "source": [
        "import re\n",
        "import h5py\n",
        "import json\n",
        "import pickle\n",
        "import random\n",
        "from PIL import Image\n",
        "from pickle import load\n",
        "\n",
        "import matplotlib.pyplot as plt\n",
        "\n",
        "import matplotlib.image as mpimg\n",
        "from IPython.display import display\n",
        "from keras.backend import clear_session\n",
        "from keras.callbacks import ModelCheckpoint\n",
        "from keras.preprocessing.text import Tokenizer\n",
        "from nltk.translate.bleu_score import corpus_bleu\n",
        "from keras.utils import to_categorical, plot_model\n",
        "from keras.preprocessing.sequence import pad_sequences\n",
        "from keras.applications.vgg16 import VGG16, preprocess_input\n",
        "from keras.preprocessing.image import load_img, img_to_array\n",
        "from keras.layers import Input, Dense, LSTM, Embedding, Dropout, add\n",
        "from keras.models import Model, Sequential, model_from_json, load_model"
      ],
      "execution_count": 0,
      "outputs": []
    },
    {
      "cell_type": "code",
      "metadata": {
        "id": "PPnzxNG-QOue",
        "colab_type": "code",
        "colab": {}
      },
      "source": [
        "import os\n",
        "path=\"/content/video/\""
      ],
      "execution_count": 0,
      "outputs": []
    },
    {
      "cell_type": "code",
      "metadata": {
        "id": "4YIYgUqyjn8X",
        "colab_type": "code",
        "outputId": "9923cdca-2317-4a42-9c7f-5a25f62be157",
        "colab": {
          "base_uri": "https://localhost:8080/",
          "height": 202
        }
      },
      "source": [
        "list1=[]\n",
        "f=open(\"e39.txt\",\"r\")\n",
        "content=f.read()\n",
        "for i in content.split(\"\\n\"):\n",
        "  list1.append(i)\n",
        "\n",
        "df=pd.DataFrame()\n",
        "s=pd.Series(list1)    \n",
        "df_namesplit=s.str.split(\":\",n=1,expand=True)\n",
        "df_namesplit.head()"
      ],
      "execution_count": 5,
      "outputs": [
        {
          "output_type": "execute_result",
          "data": {
            "text/html": [
              "<div>\n",
              "<style scoped>\n",
              "    .dataframe tbody tr th:only-of-type {\n",
              "        vertical-align: middle;\n",
              "    }\n",
              "\n",
              "    .dataframe tbody tr th {\n",
              "        vertical-align: top;\n",
              "    }\n",
              "\n",
              "    .dataframe thead th {\n",
              "        text-align: right;\n",
              "    }\n",
              "</style>\n",
              "<table border=\"1\" class=\"dataframe\">\n",
              "  <thead>\n",
              "    <tr style=\"text-align: right;\">\n",
              "      <th></th>\n",
              "      <th>0</th>\n",
              "      <th>1</th>\n",
              "    </tr>\n",
              "  </thead>\n",
              "  <tbody>\n",
              "    <tr>\n",
              "      <th>0</th>\n",
              "      <td>maya</td>\n",
              "      <td>gud moning maanusha teevee dekhane ke lie taiy...</td>\n",
              "    </tr>\n",
              "    <tr>\n",
              "      <th>1</th>\n",
              "      <td>maya</td>\n",
              "      <td>anumaan hai jise dekhakar lage ki ye shaayad r...</td>\n",
              "    </tr>\n",
              "    <tr>\n",
              "      <th>2</th>\n",
              "      <td>sahil</td>\n",
              "      <td>sahit vhait peteekot nahin hai lekin teevee ka...</td>\n",
              "    </tr>\n",
              "    <tr>\n",
              "      <th>3</th>\n",
              "      <td>maya</td>\n",
              "      <td>itana sun loo ke aaj shaam ko hamaaree paartee...</td>\n",
              "    </tr>\n",
              "    <tr>\n",
              "      <th>4</th>\n",
              "      <td>indu</td>\n",
              "      <td>donon ka rang safed kanphyoojan hoga</td>\n",
              "    </tr>\n",
              "  </tbody>\n",
              "</table>\n",
              "</div>"
            ],
            "text/plain": [
              "       0                                                  1\n",
              "0   maya  gud moning maanusha teevee dekhane ke lie taiy...\n",
              "1   maya  anumaan hai jise dekhakar lage ki ye shaayad r...\n",
              "2  sahil  sahit vhait peteekot nahin hai lekin teevee ka...\n",
              "3   maya  itana sun loo ke aaj shaam ko hamaaree paartee...\n",
              "4   indu              donon ka rang safed kanphyoojan hoga "
            ]
          },
          "metadata": {
            "tags": []
          },
          "execution_count": 5
        }
      ]
    },
    {
      "cell_type": "code",
      "metadata": {
        "id": "51b55KXJCWjc",
        "colab_type": "code",
        "colab": {
          "base_uri": "https://localhost:8080/",
          "height": 202
        },
        "outputId": "247dbf14-79c6-4ce1-c114-4bb2fd2d202e"
      },
      "source": [
        "'df=df_namesplit.drop(1,axis=1)'\n",
        "df=df_namesplit\n",
        "df.rename(columns={0:\"Label\",1:\"Text\"},inplace=True)\n",
        "df.head()"
      ],
      "execution_count": 7,
      "outputs": [
        {
          "output_type": "execute_result",
          "data": {
            "text/html": [
              "<div>\n",
              "<style scoped>\n",
              "    .dataframe tbody tr th:only-of-type {\n",
              "        vertical-align: middle;\n",
              "    }\n",
              "\n",
              "    .dataframe tbody tr th {\n",
              "        vertical-align: top;\n",
              "    }\n",
              "\n",
              "    .dataframe thead th {\n",
              "        text-align: right;\n",
              "    }\n",
              "</style>\n",
              "<table border=\"1\" class=\"dataframe\">\n",
              "  <thead>\n",
              "    <tr style=\"text-align: right;\">\n",
              "      <th></th>\n",
              "      <th>Label</th>\n",
              "      <th>Text</th>\n",
              "    </tr>\n",
              "  </thead>\n",
              "  <tbody>\n",
              "    <tr>\n",
              "      <th>0</th>\n",
              "      <td>maya</td>\n",
              "      <td>gud moning maanusha teevee dekhane ke lie taiy...</td>\n",
              "    </tr>\n",
              "    <tr>\n",
              "      <th>1</th>\n",
              "      <td>maya</td>\n",
              "      <td>anumaan hai jise dekhakar lage ki ye shaayad r...</td>\n",
              "    </tr>\n",
              "    <tr>\n",
              "      <th>2</th>\n",
              "      <td>sahil</td>\n",
              "      <td>sahit vhait peteekot nahin hai lekin teevee ka...</td>\n",
              "    </tr>\n",
              "    <tr>\n",
              "      <th>3</th>\n",
              "      <td>maya</td>\n",
              "      <td>itana sun loo ke aaj shaam ko hamaaree paartee...</td>\n",
              "    </tr>\n",
              "    <tr>\n",
              "      <th>4</th>\n",
              "      <td>indu</td>\n",
              "      <td>donon ka rang safed kanphyoojan hoga</td>\n",
              "    </tr>\n",
              "  </tbody>\n",
              "</table>\n",
              "</div>"
            ],
            "text/plain": [
              "   Label                                               Text\n",
              "0   maya  gud moning maanusha teevee dekhane ke lie taiy...\n",
              "1   maya  anumaan hai jise dekhakar lage ki ye shaayad r...\n",
              "2  sahil  sahit vhait peteekot nahin hai lekin teevee ka...\n",
              "3   maya  itana sun loo ke aaj shaam ko hamaaree paartee...\n",
              "4   indu              donon ka rang safed kanphyoojan hoga "
            ]
          },
          "metadata": {
            "tags": []
          },
          "execution_count": 7
        }
      ]
    },
    {
      "cell_type": "code",
      "metadata": {
        "id": "cl9yhTJoCX-b",
        "colab_type": "code",
        "colab": {}
      },
      "source": [
        "count=0\n",
        "path=\"/content/video/\"\n",
        "list_label=[]\n",
        "j=0\n",
        "for i in os.listdir(path):\n",
        "  videoFile=path+i\n",
        "  cap=cv2.VideoCapture(videoFile)\n",
        "  frameRate=cap.get(5)\n",
        "  x=1\n",
        "  os.chdir('/content/frames')\n",
        "  while(cap.isOpened()):\n",
        "    frameId=cap.get(1)\n",
        "    ret,frame=cap.read()\n",
        "    if(ret!=True):\n",
        "      break  \n",
        "    if(frameId%math.floor(frameRate)==0):\n",
        "      filename =\"{0}f{1}.jpg\".format(df['Label'][j],count)\n",
        "      count+=1\n",
        "      cv2.imwrite(filename, frame)\n",
        "      list_label.append(df['Label'][j])\n",
        "  cap.release()\n",
        "  j+=1  \n",
        "\n",
        "\n",
        "\n",
        "\n"
      ],
      "execution_count": 0,
      "outputs": []
    },
    {
      "cell_type": "code",
      "metadata": {
        "id": "3gyL7bMpCpZf",
        "colab_type": "code",
        "colab": {
          "base_uri": "https://localhost:8080/",
          "height": 34
        },
        "outputId": "89b4ad50-a9a1-46dc-f68b-cfca01255b5a"
      },
      "source": [
        "name=[]\n",
        "count=0\n",
        "for i in os.listdir():\n",
        "  name.append(i)  \n",
        "  count+=1\n",
        "\n",
        "len(name)"
      ],
      "execution_count": 9,
      "outputs": [
        {
          "output_type": "execute_result",
          "data": {
            "text/plain": [
              "1407"
            ]
          },
          "metadata": {
            "tags": []
          },
          "execution_count": 9
        }
      ]
    },
    {
      "cell_type": "code",
      "metadata": {
        "id": "y1FR-Mp9DRO1",
        "colab_type": "code",
        "colab": {
          "base_uri": "https://localhost:8080/",
          "height": 202
        },
        "outputId": "210f0b2d-c8f5-41b5-efd5-cce321cb7cf3"
      },
      "source": [
        "data=pd.DataFrame()\n",
        "data['Class']=list_label\n",
        "name.sort()\n",
        "data['Image_ID']=name\n",
        "data=data[[\"Image_ID\",\"Class\"]]\n",
        "data.head()"
      ],
      "execution_count": 10,
      "outputs": [
        {
          "output_type": "execute_result",
          "data": {
            "text/html": [
              "<div>\n",
              "<style scoped>\n",
              "    .dataframe tbody tr th:only-of-type {\n",
              "        vertical-align: middle;\n",
              "    }\n",
              "\n",
              "    .dataframe tbody tr th {\n",
              "        vertical-align: top;\n",
              "    }\n",
              "\n",
              "    .dataframe thead th {\n",
              "        text-align: right;\n",
              "    }\n",
              "</style>\n",
              "<table border=\"1\" class=\"dataframe\">\n",
              "  <thead>\n",
              "    <tr style=\"text-align: right;\">\n",
              "      <th></th>\n",
              "      <th>Image_ID</th>\n",
              "      <th>Class</th>\n",
              "    </tr>\n",
              "  </thead>\n",
              "  <tbody>\n",
              "    <tr>\n",
              "      <th>0</th>\n",
              "      <td>induf1000.jpg</td>\n",
              "      <td>maya</td>\n",
              "    </tr>\n",
              "    <tr>\n",
              "      <th>1</th>\n",
              "      <td>induf1001.jpg</td>\n",
              "      <td>maya</td>\n",
              "    </tr>\n",
              "    <tr>\n",
              "      <th>2</th>\n",
              "      <td>induf1002.jpg</td>\n",
              "      <td>maya</td>\n",
              "    </tr>\n",
              "    <tr>\n",
              "      <th>3</th>\n",
              "      <td>induf1003.jpg</td>\n",
              "      <td>maya</td>\n",
              "    </tr>\n",
              "    <tr>\n",
              "      <th>4</th>\n",
              "      <td>induf1004.jpg</td>\n",
              "      <td>maya</td>\n",
              "    </tr>\n",
              "  </tbody>\n",
              "</table>\n",
              "</div>"
            ],
            "text/plain": [
              "        Image_ID Class\n",
              "0  induf1000.jpg  maya\n",
              "1  induf1001.jpg  maya\n",
              "2  induf1002.jpg  maya\n",
              "3  induf1003.jpg  maya\n",
              "4  induf1004.jpg  maya"
            ]
          },
          "metadata": {
            "tags": []
          },
          "execution_count": 10
        }
      ]
    },
    {
      "cell_type": "code",
      "metadata": {
        "id": "BYICm8-KDjKw",
        "colab_type": "code",
        "colab": {}
      },
      "source": [
        "X=[]\n",
        "for img_name in data.Image_ID:\n",
        "  img=plt.imread(''+img_name)\n",
        "  X.append(img)\n",
        "X=np.array(X) "
      ],
      "execution_count": 0,
      "outputs": []
    },
    {
      "cell_type": "code",
      "metadata": {
        "id": "l6vKKEplDvkT",
        "colab_type": "code",
        "colab": {
          "base_uri": "https://localhost:8080/",
          "height": 34
        },
        "outputId": "ec769a00-c4ea-428c-f601-11fd40eba792"
      },
      "source": [
        "X.shape"
      ],
      "execution_count": 19,
      "outputs": [
        {
          "output_type": "execute_result",
          "data": {
            "text/plain": [
              "(1407, 299, 299, 3)"
            ]
          },
          "metadata": {
            "tags": []
          },
          "execution_count": 19
        }
      ]
    },
    {
      "cell_type": "code",
      "metadata": {
        "id": "diyG7iPwESBJ",
        "colab_type": "code",
        "colab": {}
      },
      "source": [
        "from keras.applications.inception_v3 import InceptionV3,preprocess_input\n",
        "from keras.layers import Dense,InputLayer,Dropout"
      ],
      "execution_count": 0,
      "outputs": []
    },
    {
      "cell_type": "code",
      "metadata": {
        "id": "J9LAU3YcDyTK",
        "colab_type": "code",
        "colab": {}
      },
      "source": [
        "from keras.applications.inception_v3 import preprocess_input\n",
        "X=preprocess_input(X)"
      ],
      "execution_count": 0,
      "outputs": []
    },
    {
      "cell_type": "code",
      "metadata": {
        "id": "bOO0xr3GEfQR",
        "colab_type": "code",
        "colab": {
          "base_uri": "https://localhost:8080/",
          "height": 52
        },
        "outputId": "01616271-d31f-4d2c-e55e-d63b5b5da66a"
      },
      "source": [
        "inception_model = InceptionV3(weights='imagenet')\n",
        "    #removing the top layer to get the vector representation if the image\n",
        "inception_model.layers.pop()\n",
        "inception_model = Model(inputs=inception_model.inputs, outputs=inception_model.layers[-1].output)"
      ],
      "execution_count": 15,
      "outputs": [
        {
          "output_type": "stream",
          "text": [
            "Downloading data from https://github.com/fchollet/deep-learning-models/releases/download/v0.5/inception_v3_weights_tf_dim_ordering_tf_kernels.h5\n",
            "96116736/96112376 [==============================] - 2s 0us/step\n"
          ],
          "name": "stdout"
        }
      ]
    },
    {
      "cell_type": "code",
      "metadata": {
        "id": "ZzZlNGx3E1tA",
        "colab_type": "code",
        "colab": {}
      },
      "source": [
        "image=[]\n",
        "for i in range(0,X.shape[0]):\n",
        "  a=resize(X[i],preserve_range=True,output_shape=(299,299)).astype(int)\n",
        "  image.append(a)\n",
        "X=np.array(image) "
      ],
      "execution_count": 0,
      "outputs": []
    },
    {
      "cell_type": "code",
      "metadata": {
        "id": "jaSKhDWCFX7i",
        "colab_type": "code",
        "colab": {
          "base_uri": "https://localhost:8080/",
          "height": 242
        },
        "outputId": "bd6fd03c-558b-4259-b8e8-e76f92f4bc00"
      },
      "source": [
        "inception_model.predict(X)"
      ],
      "execution_count": 20,
      "outputs": [
        {
          "output_type": "execute_result",
          "data": {
            "text/plain": [
              "array([[0.11824495, 0.3625783 , 0.00541302, ..., 1.0514245 , 0.42888233,\n",
              "        1.3778363 ],\n",
              "       [0.1208288 , 0.40932027, 0.00935532, ..., 0.87156874, 0.8008306 ,\n",
              "        1.1363269 ],\n",
              "       [0.07730815, 0.39237592, 0.        , ..., 0.96628857, 0.44011998,\n",
              "        0.8239568 ],\n",
              "       ...,\n",
              "       [0.01630958, 0.28816444, 0.08278149, ..., 0.17489472, 0.31159732,\n",
              "        0.62627757],\n",
              "       [0.02193597, 0.3628222 , 0.23739842, ..., 0.2757547 , 0.4594185 ,\n",
              "        0.8132234 ],\n",
              "       [0.09482712, 0.103049  , 0.13211407, ..., 0.06744358, 0.4441544 ,\n",
              "        1.1656046 ]], dtype=float32)"
            ]
          },
          "metadata": {
            "tags": []
          },
          "execution_count": 20
        }
      ]
    },
    {
      "cell_type": "code",
      "metadata": {
        "id": "ifDUua1DPDk0",
        "colab_type": "code",
        "colab": {
          "base_uri": "https://localhost:8080/",
          "height": 260
        },
        "outputId": "dcdbf423-8e36-4284-8381-ca80297012bf"
      },
      "source": [
        "os.listdir('/content/character')"
      ],
      "execution_count": 34,
      "outputs": [
        {
          "output_type": "execute_result",
          "data": {
            "text/plain": [
              "['sahilf274.jpg',\n",
              " 'indu.jpg',\n",
              " 'indu (2).jpg',\n",
              " 'mayaf1222.jpg',\n",
              " 'sahil2.jpg',\n",
              " 'rosheshf1074.jpg',\n",
              " 'monisha.jpg',\n",
              " 'sid.jpg',\n",
              " 'madhu.jpg',\n",
              " 'sahil.jpg',\n",
              " '.ipynb_checkpoints',\n",
              " 'sahil1.jpg',\n",
              " 'monisha (2).jpg',\n",
              " 'mayaf1212.jpg']"
            ]
          },
          "metadata": {
            "tags": []
          },
          "execution_count": 34
        }
      ]
    },
    {
      "cell_type": "code",
      "metadata": {
        "id": "w2LS1FZ4QWdG",
        "colab_type": "code",
        "colab": {}
      },
      "source": [
        "X=[]"
      ],
      "execution_count": 0,
      "outputs": []
    },
    {
      "cell_type": "code",
      "metadata": {
        "id": "llLbNrCeH8sX",
        "colab_type": "code",
        "colab": {
          "base_uri": "https://localhost:8080/",
          "height": 34
        },
        "outputId": "f8efeb64-6951-414e-f881-385063419c0e"
      },
      "source": [
        "img_test=[\"mayaf1212.jpg\",\"mayaf1222.jpg\",\"indu.jpg\",\"indu2.jpg\",\"madhu.jpg\",\"monisha.jpg\",\"monisha2.jpg\",\"sahil1.jpg\",\"sahil2.jpg\",\"sid.jpg\",\"roshesh.jpg\"]\n",
        "os.chdir('/content/character')\n",
        "X=[]\n",
        "for img_name in img_test:\n",
        "  img=plt.imread(''+img_name)\n",
        "  X.append(img)\n",
        "X=np.array(X)\n",
        "image=[]\n",
        "for i in range(0,X.shape[0]):\n",
        "  a=resize(X[i],preserve_range=True,output_shape=(299,299)).astype(int)\n",
        "  image.append(a)\n",
        "X=np.array(image)\n",
        "X.shape"
      ],
      "execution_count": 44,
      "outputs": [
        {
          "output_type": "execute_result",
          "data": {
            "text/plain": [
              "(11, 299, 299, 3)"
            ]
          },
          "metadata": {
            "tags": []
          },
          "execution_count": 44
        }
      ]
    },
    {
      "cell_type": "code",
      "metadata": {
        "id": "faw8EptOOGW8",
        "colab_type": "code",
        "colab": {}
      },
      "source": [
        "emb=inception_model.predict(X)\n",
        "emb"
      ],
      "execution_count": 0,
      "outputs": []
    },
    {
      "cell_type": "code",
      "metadata": {
        "id": "5z1ZbzLjRAh0",
        "colab_type": "code",
        "colab": {
          "base_uri": "https://localhost:8080/",
          "height": 34
        },
        "outputId": "ab21a01d-1cc4-440f-865a-57144728a8fe"
      },
      "source": [
        "m_emb=np.mean(np.array([emb[0],emb[1]]),axis=0)\n",
        "m_emb.shape"
      ],
      "execution_count": 50,
      "outputs": [
        {
          "output_type": "execute_result",
          "data": {
            "text/plain": [
              "(2048,)"
            ]
          },
          "metadata": {
            "tags": []
          },
          "execution_count": 50
        }
      ]
    },
    {
      "cell_type": "code",
      "metadata": {
        "id": "_Rn0E4BSRAf3",
        "colab_type": "code",
        "colab": {
          "base_uri": "https://localhost:8080/",
          "height": 34
        },
        "outputId": "fceafcfe-242e-43c9-b4c0-6d96fb617158"
      },
      "source": [
        "i_emb=np.mean(np.array([emb[2],emb[3]]),axis=0)\n",
        "i_emb.shape"
      ],
      "execution_count": 51,
      "outputs": [
        {
          "output_type": "execute_result",
          "data": {
            "text/plain": [
              "(2048,)"
            ]
          },
          "metadata": {
            "tags": []
          },
          "execution_count": 51
        }
      ]
    },
    {
      "cell_type": "code",
      "metadata": {
        "id": "Lr3-9VPZRAbE",
        "colab_type": "code",
        "colab": {
          "base_uri": "https://localhost:8080/",
          "height": 34
        },
        "outputId": "c3c07f81-feed-4fc7-cdc0-c22b7b75d142"
      },
      "source": [
        "madhu_emb=emb[4]\n",
        "madhu_emb.shape"
      ],
      "execution_count": 53,
      "outputs": [
        {
          "output_type": "execute_result",
          "data": {
            "text/plain": [
              "(2048,)"
            ]
          },
          "metadata": {
            "tags": []
          },
          "execution_count": 53
        }
      ]
    },
    {
      "cell_type": "code",
      "metadata": {
        "id": "8V9o_pdDRAWA",
        "colab_type": "code",
        "colab": {
          "base_uri": "https://localhost:8080/",
          "height": 34
        },
        "outputId": "ef32284c-655e-4965-e65c-012080930026"
      },
      "source": [
        "monisha_emb=np.mean(np.array([emb[5],emb[6]]),axis=0)\n",
        "monisha_emb.shape"
      ],
      "execution_count": 54,
      "outputs": [
        {
          "output_type": "execute_result",
          "data": {
            "text/plain": [
              "(2048,)"
            ]
          },
          "metadata": {
            "tags": []
          },
          "execution_count": 54
        }
      ]
    },
    {
      "cell_type": "code",
      "metadata": {
        "id": "j-QPG-b_TCLc",
        "colab_type": "code",
        "colab": {
          "base_uri": "https://localhost:8080/",
          "height": 34
        },
        "outputId": "9159bcda-a4a5-4711-8bf2-1762f2fa9ef5"
      },
      "source": [
        "sahil_emb=np.mean(np.array([emb[7],emb[8]]),axis=0)\n",
        "sahil_emb.shape"
      ],
      "execution_count": 55,
      "outputs": [
        {
          "output_type": "execute_result",
          "data": {
            "text/plain": [
              "(2048,)"
            ]
          },
          "metadata": {
            "tags": []
          },
          "execution_count": 55
        }
      ]
    },
    {
      "cell_type": "code",
      "metadata": {
        "id": "QBTcNdQWTHws",
        "colab_type": "code",
        "colab": {
          "base_uri": "https://localhost:8080/",
          "height": 34
        },
        "outputId": "9589e856-aa53-4a94-eee8-d8e762c8fb5c"
      },
      "source": [
        "roshesh_emb=emb[10]\n",
        "roshesh_emb.shape"
      ],
      "execution_count": 56,
      "outputs": [
        {
          "output_type": "execute_result",
          "data": {
            "text/plain": [
              "(2048,)"
            ]
          },
          "metadata": {
            "tags": []
          },
          "execution_count": 56
        }
      ]
    },
    {
      "cell_type": "code",
      "metadata": {
        "id": "n5ykwkWoTS3A",
        "colab_type": "code",
        "colab": {
          "base_uri": "https://localhost:8080/",
          "height": 34
        },
        "outputId": "d7bcda18-9b77-4d90-b338-5e1bc384f649"
      },
      "source": [
        "sid=emb[9]\n",
        "sid.shape"
      ],
      "execution_count": 57,
      "outputs": [
        {
          "output_type": "execute_result",
          "data": {
            "text/plain": [
              "(2048,)"
            ]
          },
          "metadata": {
            "tags": []
          },
          "execution_count": 57
        }
      ]
    },
    {
      "cell_type": "code",
      "metadata": {
        "id": "YzNAqdLSNqC_",
        "colab_type": "code",
        "colab": {}
      },
      "source": [
        "vis_emb={}\n",
        "vis_emb[\"maya\"]=m_emb\n",
        "vis_emb[\"indu\"]=i_emb\n",
        "vis_emb[\"sahil\"]=sahil_emb\n",
        "vis_emb[\"monisha\"]=monisha_emb\n",
        "vis_emb[\"madhu\"]=madhu_emb\n",
        "vis_emb[\"sid\"]=sid\n",
        "vis_emb[\"roshesh\"]=roshesh_emb"
      ],
      "execution_count": 0,
      "outputs": []
    },
    {
      "cell_type": "code",
      "metadata": {
        "id": "efPY0rNKVwGa",
        "colab_type": "code",
        "colab": {
          "base_uri": "https://localhost:8080/",
          "height": 34
        },
        "outputId": "2449ced9-233f-4727-facf-2309134890d4"
      },
      "source": [
        "vis_emb[\"sahil\"].shape"
      ],
      "execution_count": 63,
      "outputs": [
        {
          "output_type": "execute_result",
          "data": {
            "text/plain": [
              "(2048,)"
            ]
          },
          "metadata": {
            "tags": []
          },
          "execution_count": 63
        }
      ]
    },
    {
      "cell_type": "code",
      "metadata": {
        "id": "PeQSEmhqVxXS",
        "colab_type": "code",
        "colab": {}
      },
      "source": [
        "f=open('embedding.pkl','wb')\n",
        "import pickle\n",
        "pickle.dump(vis_emb,f)"
      ],
      "execution_count": 0,
      "outputs": []
    },
    {
      "cell_type": "code",
      "metadata": {
        "id": "_jz9s_4rWcwS",
        "colab_type": "code",
        "colab": {
          "base_uri": "https://localhost:8080/",
          "height": 260
        },
        "outputId": "320c5bcf-c817-415b-8919-0f75c210d1eb"
      },
      "source": [
        "c=open('embedding.pkl','rb')\n",
        "d=pickle.load(c)\n",
        "d"
      ],
      "execution_count": 67,
      "outputs": [
        {
          "output_type": "execute_result",
          "data": {
            "text/plain": [
              "{'indu': array([3.5523229 , 1.3372188 , 1.5370908 , ..., 0.62386394, 0.        ,\n",
              "        6.3291154 ], dtype=float32),\n",
              " 'madhu': array([3.3542182 , 1.929963  , 0.41037172, ..., 0.        , 0.13121375,\n",
              "        5.168471  ], dtype=float32),\n",
              " 'maya': array([ 7.870367  ,  3.025898  ,  0.03965998, ...,  3.1330118 ,\n",
              "         0.04394486, 17.079487  ], dtype=float32),\n",
              " 'monisha': array([ 1.2650446 ,  6.365317  ,  0.6026185 , ...,  0.98808885,\n",
              "         0.        , 12.793686  ], dtype=float32),\n",
              " 'roshesh': array([0.8765143, 0.9946318, 3.6631622, ..., 0.       , 0.       ,\n",
              "        5.126812 ], dtype=float32),\n",
              " 'sahil': array([6.747183  , 6.2006083 , 0.21887946, ..., 0.04634268, 0.        ,\n",
              "        6.931761  ], dtype=float32),\n",
              " 'sid': array([5.5270066 , 3.9554007 , 0.80949426, ..., 0.        , 0.        ,\n",
              "        2.9833195 ], dtype=float32)}"
            ]
          },
          "metadata": {
            "tags": []
          },
          "execution_count": 67
        }
      ]
    },
    {
      "cell_type": "code",
      "metadata": {
        "id": "h337C2YQWnFI",
        "colab_type": "code",
        "colab": {}
      },
      "source": [
        ""
      ],
      "execution_count": 0,
      "outputs": []
    }
  ]
}